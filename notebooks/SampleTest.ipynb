{
 "cells": [
  {
   "cell_type": "code",
   "execution_count": null,
   "metadata": {},
   "outputs": [],
   "source": [
    " %matplotlib inline\n",
    "\n",
    "import os\n",
    "from dateutil.relativedelta import relativedelta\n",
    "\n",
    "import numpy as np\n",
    "import pandas as pd\n",
    "from bson.objectid import ObjectId\n",
    "import matplotlib.pyplot as plt\n",
    "from mongoengine import connect\n",
    "from pycoshark.mongomodels import Project, VCSSystem, Commit, Tag, File, CodeEntityState, FileAction, People, IssueSystem, Issue, Message, MailingList, Event, MynbouData, Identity, Hunk, Branch\n",
    "from pycoshark.utils import java_filename_filter, jira_is_resolved_and_fixed, get_commit_graph, heuristic_renames\n",
    "\n",
    "loc = {'host': '127.0.0.1',\n",
    "       'port': 27018,\n",
    "       'db': 'smartshark',\n",
    "       'username': 'root',\n",
    "       'password': 'balla',\n",
    "       'authentication_source': 'smartshark',\n",
    "       'connect': False}\n",
    "connect(**bimbes)"
   ]
  },
  {
   "cell_type": "code",
   "execution_count": null,
   "metadata": {},
   "outputs": [],
   "source": [
    "dfall = pd.read_pickle('/srv/www/emse2019_replication/data/aggregated2_full.pickle')\n",
    "len(dfall)"
   ]
  },
  {
   "cell_type": "code",
   "execution_count": null,
   "metadata": {},
   "outputs": [],
   "source": [
    "code_files = set()\n",
    "test_files = set()\n",
    "for project in dfall['project'].unique():\n",
    "    p = Project.objects.get(name=project)\n",
    "    vcs = VCSSystem.objects.get(project_id=p.id)\n",
    "\n",
    "    # sample 1% of the commits used in the study\n",
    "    commit_sample = dfall[dfall['project'] == project].sample(frac=0.01, replace=False, random_state=42)['revision'].values\n",
    "\n",
    "    # get changed files from the database and write them to the samples file for manual inspection\n",
    "    for commit in commit_sample:\n",
    "        c = Commit.objects.only('id').get(vcs_system_id=vcs.id, revision_hash=commit)\n",
    "        for fa in FileAction.objects.filter(commit_id=c.id):\n",
    "            f = File.objects.get(id=fa.file_id)\n",
    "            if not f.path.lower().endswith('.java'):\n",
    "                continue\n",
    "            if java_filename_filter(f.path, production_only=True):\n",
    "                code_files.add(f.path)\n",
    "            else:\n",
    "                test_files.add(f.path)\n",
    "\n",
    "# collect samples for each project\n",
    "with open('../file_samples.txt', 'w') as fd:\n",
    "    fd.write('code files:')\n",
    "    fd.write('\\n'.join(code_files))\n",
    "    fd.write('\\n')\n",
    "    fd.write('test files:')\n",
    "    fd.write('\\n'.join(test_files))"
   ]
  },
  {
   "cell_type": "code",
   "execution_count": null,
   "metadata": {},
   "outputs": [],
   "source": []
  }
 ],
 "metadata": {
  "kernelspec": {
   "display_name": "Python 3",
   "language": "python",
   "name": "python3"
  },
  "language_info": {
   "codemirror_mode": {
    "name": "ipython",
    "version": 3
   },
   "file_extension": ".py",
   "mimetype": "text/x-python",
   "name": "python",
   "nbconvert_exporter": "python",
   "pygments_lexer": "ipython3",
   "version": "3.8.3"
  }
 },
 "nbformat": 4,
 "nbformat_minor": 4
}
