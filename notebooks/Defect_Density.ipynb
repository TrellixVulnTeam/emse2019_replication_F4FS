{
 "cells": [
  {
   "cell_type": "code",
   "execution_count": null,
   "metadata": {},
   "outputs": [],
   "source": [
    "%matplotlib inline\n",
    "\n",
    "import glob\n",
    "import copy\n",
    "import pprint\n",
    "import logging\n",
    "\n",
    "import numpy as np\n",
    "import matplotlib.pyplot as plt\n",
    "import matplotlib.dates as mdates\n",
    "import pandas as pd\n",
    "import networkx as nx\n",
    "from scipy import stats\n",
    "from sklearn.linear_model import LinearRegression\n",
    "from sklearn.feature_selection import f_regression\n",
    "\n",
    "from collections import deque\n",
    "\n",
    "from datetime import datetime\n",
    "from bson.objectid import ObjectId\n",
    "from mongoengine import connect\n",
    "from pycoshark.mongomodels import Project, VCSSystem, Commit, Tag, File, CodeEntityState, FileAction, People, IssueSystem, Issue, Message, MailingList, Event, MynbouData, Identity, Hunk, Branch, Refactoring\n",
    "from pycoshark.utils import jira_is_resolved_and_fixed\n",
    "loc = {'host': '127.0.0.1',\n",
    "       'port': 27017,\n",
    "       'db': 'smartshark',\n",
    "       'username': 'root',\n",
    "       'password': '',\n",
    "       'authentication_source': 'smartshark',\n",
    "       'connect': False}\n",
    "connect(**loc)"
   ]
  },
  {
   "cell_type": "code",
   "execution_count": null,
   "metadata": {},
   "outputs": [],
   "source": [
    "def calculate_defect_density(dfall, project_name):\n",
    "    dd = []\n",
    "    pr = Project.objects.get(name=project_name)\n",
    "    vcs = VCSSystem.objects.get(project_id=pr.id)\n",
    "    its = IssueSystem.objects.get(project_id=pr.id)\n",
    "    \n",
    "    first_use = False\n",
    "    first_year = True\n",
    "    for year in dfall[dfall['project'] == project_name]['year'].unique():\n",
    "        start = datetime(year=year, day=1, month=1, hour=0, minute=0, second=1)\n",
    "        end = datetime(year=year, day=31, month=12, hour=23, minute=59, second=59)\n",
    "\n",
    "        # take average of lloc for defect density\n",
    "        lloc = dfall[(dfall['project'] == project_name) & (dfall['year'] == year)]['code_klloc'].mean()\n",
    "        elloc = dfall[(dfall['project'] == project_name) & (dfall['year'] == year)]['effective_code_klloc'].mean()\n",
    "\n",
    "        issues_fixed = set()\n",
    "        issues_created = set()\n",
    "\n",
    "        for i in Issue.objects.filter(issue_system_id=its.id, created_at__gte=start, created_at__lt=end):\n",
    "            if str(i.issue_type).lower() == 'bug':\n",
    "                issues_created.add(i)\n",
    "\n",
    "        # this only works with linked_issue_ids (we could use fixed_issue_ids if we use validated data)\n",
    "        for revision_hash in dfall[(dfall['project'] == project_name) & (dfall['year'] == year)]['revision'].unique():\n",
    "            c = Commit.objects.get(vcs_system_id=vcs.id, revision_hash=revision_hash)\n",
    "            for fi in c.linked_issue_ids:\n",
    "                i = Issue.objects.get(id=fi)\n",
    "                if str(i.issue_type).lower() == 'bug' and jira_is_resolved_and_fixed(i):\n",
    "                    issues_fixed.add(i)\n",
    "        \n",
    "        # if we are on the first year in our data and we already have fixed issues in our linked issues (linked to commits) we assume the issue tracker is used consistenly\n",
    "        if first_year and len(issues_fixed) > 0:\n",
    "            first_use = True\n",
    "\n",
    "        # we skip the first year because the ITS may not have been used completely iff we have empty linked issues in the first year\n",
    "        if first_use:\n",
    "            dd.append({'project': project_name, 'year': year, 'code_klloc': lloc, 'effective_klloc': elloc, 'issues_created': len(issues_created), 'issues_fixed': len(issues_fixed)})\n",
    "            print('{} in {} defect density: {}, ({} / {}) issues fixed: {}, fix density: {}'.format(project_name, year, len(issues_created) / lloc, len(issues_created), lloc, len(issues_fixed), len(issues_fixed) / lloc))\n",
    "        else:\n",
    "            if len(issues_fixed) > 0:\n",
    "                first_use = True\n",
    "        \n",
    "        first_year = False\n",
    "    return dd"
   ]
  },
  {
   "cell_type": "code",
   "execution_count": null,
   "metadata": {},
   "outputs": [],
   "source": [
    "dfall = pd.read_pickle('../data/aggregated_full.pickle')\n",
    "len(dfall)"
   ]
  },
  {
   "cell_type": "code",
   "execution_count": null,
   "metadata": {},
   "outputs": [],
   "source": [
    "dfs = []\n",
    "for d in dd:\n",
    "    dfs.append(pd.DataFrame(d))\n",
    "df = pd.concat(dfs)\n",
    "df.to_csv('../data/defect_density.csv', index=False)"
   ]
  },
  {
   "cell_type": "code",
   "execution_count": null,
   "metadata": {},
   "outputs": [],
   "source": [
    "ddall = pd.read_csv('../data/defect_density.csv')\n",
    "print(ddall['project'].nunique(), 'projects')\n",
    "print(ddall['project'].unique())"
   ]
  }
 ],
 "metadata": {
  "kernelspec": {
   "display_name": "Python 3",
   "language": "python",
   "name": "python3"
  },
  "language_info": {
   "codemirror_mode": {
    "name": "ipython",
    "version": 3
   },
   "file_extension": ".py",
   "mimetype": "text/x-python",
   "name": "python",
   "nbconvert_exporter": "python",
   "pygments_lexer": "ipython3",
   "version": "3.8.2"
  }
 },
 "nbformat": 4,
 "nbformat_minor": 4
}
