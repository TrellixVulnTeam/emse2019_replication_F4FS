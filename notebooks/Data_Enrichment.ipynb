{
 "cells": [
  {
   "cell_type": "code",
   "execution_count": null,
   "metadata": {},
   "outputs": [],
   "source": [
    "# load data from mongodb regarding\n",
    "# commit message, fileactions, lines changed, change type (added, deleted, modified)\n",
    "import pandas as pd\n",
    "from bson.objectid import ObjectId\n",
    "from mongoengine import connect\n",
    "from pycoshark.mongomodels import Project, VCSSystem, Commit, Tag, File, CodeEntityState, FileAction, People, IssueSystem, Issue, Message, MailingList, Event, MynbouData, Identity, Hunk, Branch\n",
    "loc = {'host': '127.0.0.1',\n",
    "       'port': 27017,\n",
    "       'db': 'smartshark',\n",
    "       'username': 'root',\n",
    "       'password': '',\n",
    "       'authentication_source': 'smartshark',\n",
    "       'connect': False}\n",
    "connect(**loc)"
   ]
  },
  {
   "cell_type": "code",
   "execution_count": null,
   "metadata": {},
   "outputs": [],
   "source": [
    "dfall = pd.read_pickle('../data/aggregated_full.pickle')\n",
    "len(dfall)"
   ]
  },
  {
   "cell_type": "code",
   "execution_count": null,
   "metadata": {},
   "outputs": [],
   "source": [
    "dfall['commit_msg'] = ''\n",
    "dfall['files_added'] = 0\n",
    "dfall['files_deleted'] = 0\n",
    "dfall['files_modified'] = 0\n",
    "\n",
    "for project_name in dfall['project'].unique():\n",
    "    pr = Project.objects.get(name=project_name)\n",
    "    vcs = VCSSystem.objects.get(project_id=pr.id)\n",
    "    \n",
    "    for revision_hash in dfall[dfall['project'] == project_name]['revision'].unique():\n",
    "        # fetch commit message\n",
    "        files_added = 0\n",
    "        files_deleted = 0\n",
    "        files_modified = 0\n",
    "        c = Commit.objects.get(vcs_system_id=vcs.id, revision_hash=revision_hash)\n",
    "        \n",
    "        for fa in FileAction.objects.filter(commit_id=c.id):\n",
    "            if fa.mode == 'M':\n",
    "                files_modified += 1\n",
    "            elif fa.mode in ['A', 'C']:\n",
    "                files_added += 1\n",
    "            elif fa.mode == 'D':\n",
    "                files_deleted += 1\n",
    "        \n",
    "        f = dfall[(dfall['project'] == project_name) & (dfall['revision'] == revision_hash)]\n",
    "        dfall.loc[f.index, 'commit_msg'] = c.message\n",
    "        dfall.loc[f.index, 'files_added'] = files_added\n",
    "        dfall.loc[f.index, 'files_modified'] = files_modified\n",
    "        dfall.loc[f.index, 'files_deleted'] = files_deleted\n",
    "        "
   ]
  },
  {
   "cell_type": "code",
   "execution_count": null,
   "metadata": {},
   "outputs": [],
   "source": [
    "dfall.to_pickle('../data/aggregated_full_enriched.pickle')"
   ]
  },
  {
   "cell_type": "code",
   "execution_count": null,
   "metadata": {},
   "outputs": [],
   "source": [
    "dfall.head()"
   ]
  },
  {
   "cell_type": "code",
   "execution_count": null,
   "metadata": {},
   "outputs": [],
   "source": [
    "# count complete commits our study subjects have\n",
    "commits = 0\n",
    "for project_name in dfall['project'].unique():\n",
    "    p = Project.objects.get(name=project_name)\n",
    "    vcs = VCSSystem.objects.get(project_id=p.id)\n",
    "    \n",
    "    commits += Commit.objects.filter(vcs_system_id=vcs.id).count()\n",
    "\n",
    "print('study subjects have', commits, 'number of commits')"
   ]
  },
  {
   "cell_type": "code",
   "execution_count": null,
   "metadata": {},
   "outputs": [],
   "source": []
  }
 ],
 "metadata": {
  "kernelspec": {
   "display_name": "Python 3",
   "language": "python",
   "name": "python3"
  },
  "language_info": {
   "codemirror_mode": {
    "name": "ipython",
    "version": 3
   },
   "file_extension": ".py",
   "mimetype": "text/x-python",
   "name": "python",
   "nbconvert_exporter": "python",
   "pygments_lexer": "ipython3",
   "version": "3.8.0"
  }
 },
 "nbformat": 4,
 "nbformat_minor": 4
}
